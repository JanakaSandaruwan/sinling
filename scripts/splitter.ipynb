{
 "cells": [
  {
   "cell_type": "code",
   "execution_count": 23,
   "metadata": {
    "pycharm": {
     "is_executing": false,
     "name": "#%%\n"
    }
   },
   "outputs": [],
   "source": [
    "import sys\n",
    "sys.path.insert(0, '..')"
   ]
  },
  {
   "cell_type": "code",
   "execution_count": 24,
   "metadata": {
    "pycharm": {
     "is_executing": false,
     "name": "#%%\n"
    }
   },
   "outputs": [],
   "source": [
    "def writer(file, items):\n",
    "    with open(file, 'w', encoding='utf-8') as f1:\n",
    "        for item in items:\n",
    "            _line = ' '.join([t for t in item if t != ' '])\n",
    "            f1.write(_line + '\\n')\n",
    "            \n",
    "def reader(file):\n",
    "    with open(file, 'r', encoding='utf-8') as f1:\n",
    "        for item in f1.read().split('\\n'):\n",
    "            yield item.split(' ')"
   ]
  },
  {
   "cell_type": "code",
   "execution_count": 25,
   "metadata": {
    "pycharm": {
     "is_executing": false
    }
   },
   "outputs": [],
   "source": [
    "import nltk\n",
    "words = [w for s in reader('../data/tokenized.txt') for w in s]\n",
    "dist = nltk.FreqDist(words)\n",
    "words = set(words)"
   ]
  },
  {
   "cell_type": "code",
   "execution_count": 26,
   "metadata": {
    "pycharm": {
     "is_executing": false,
     "name": "#%%\n"
    }
   },
   "outputs": [],
   "source": [
    "def harmonic_mean(*a):\n",
    "    return len(a)/sum([1/k for k in a])"
   ]
  },
  {
   "cell_type": "code",
   "execution_count": 39,
   "metadata": {
    "pycharm": {
     "is_executing": false,
     "name": "#%%\n"
    }
   },
   "outputs": [],
   "source": [
    "def split(word):\n",
    "    debug = []\n",
    "    max_score = 0\n",
    "    best_split = None\n",
    "    for i in range(1, len(word)):\n",
    "        s1 = word[:i]\n",
    "        s2 = word[i:]\n",
    "        word_freq_s1 = dist[s1]   \n",
    "        # Check base word (with ්) if s2 != ්\n",
    "        if not s2.startswith('්'):\n",
    "            s3 = word[:i] + '්'\n",
    "            word_freq_s3 = dist[s3]        \n",
    "            if word_freq_s3 > word_freq_s1:\n",
    "                word_freq_s1 = word_freq_s3\n",
    "                s1 = s3\n",
    "        word_freq_s1 += 1\n",
    "        count_words_ends_with_s2 = len([w for w in words if w.endswith(s2)]) + 1\n",
    "        score = harmonic_mean(word_freq_s1, count_words_ends_with_s2)\n",
    "        if score > max_score:\n",
    "            max_score = score\n",
    "            best_split = (s1, s2)\n",
    "        debug.append([s1, s2, score])\n",
    "    return {\n",
    "        'debug':debug,\n",
    "        'base':best_split[0],\n",
    "        'morph':best_split[1],\n",
    "    }"
   ]
  },
  {
   "cell_type": "code",
   "execution_count": 40,
   "metadata": {
    "pycharm": {
     "name": "#%%\n"
    }
   },
   "outputs": [
    {
     "name": "stdout",
     "output_type": "stream",
     "text": [
      "{'debug': [['ද', 'කුණැස', 1.9999949282859637], ['දක්', 'ුණැස', 1.894736842105263], ['දකු', 'ණැස', 3.5], ['දකුණ', 'ැස', 204.31726495726497], ['දකුණැ', 'ස', 1.9996031746031748]], 'base': 'දකුණ', 'morph': 'ැස'}\n",
      "{'debug': [['ඔ', 'වුනොවුන්', 3.9562841530054644], ['ඔව්', 'ුනොවුන්', 5.998103266596417], ['ඔවු', 'නොවුන්', 9.333333333333334], ['ඔවුන්', 'ොවුන්', 119.89015850737617], ['ඔවුනො', 'වුන්', 1.996904024767802], ['ඔවුනොව', 'ුන්', 1.9995027349577323], ['ඔවුනොවු', 'න්', 1.999980194490107], ['ඔවුනොවුන', '්', 1.9999931003315292]], 'base': 'ඔවුන්', 'morph': 'ොවුන්'}\n",
      "{'debug': [['ක්', 'ොකා', 67.98166708957118], ['කො', 'කා', 2308.0193328278997], ['කොක්', 'ා', 529.7218108055896]], 'base': 'කො', 'morph': 'කා'}\n",
      "{'debug': [['හ', 'රකෙක්', 9.97974888618874], ['හර', 'කෙක්', 80.92138939670932], ['හරක්', 'ෙක්', 1987.53550295858], ['හරකෙ', 'ක්', 1.9999521725613985], ['හරකෙක', '්', 1.9999931003315292]], 'base': 'හරක්', 'morph': 'ෙක්'}\n",
      "{'debug': [['ස', 'ුරිඳු', 17.97225552320603], ['සු', 'රිඳු', 78.0813704496788], ['සුර', 'ිඳු', 314.4152139461173], ['සුරි', 'ඳු', 7.9372549019607845], ['සුරිඳ', 'ු', 3.999803950399451]], 'base': 'සුර', 'morph': 'ිඳු'}\n",
      "{'debug': [['ජ', 'ාතිකයා', 9.990332559938128], ['ජා', 'තිකයා', 57.886992743886054], ['ජාත', 'ිකයා', 59.013452914798215], ['ජාති', 'කයා', 1122.2947427293066], ['ජාතික', 'යා', 17396.395867644856], ['ජාතිකය', 'ා', 27.99366351997931]], 'base': 'ජාතික', 'morph': 'යා'}\n"
     ]
    }
   ],
   "source": [
    "check = ['දකුණැස', 'ඔවුනොවුන්', 'කොකා', 'හරකෙක්', 'සුරිඳු', 'ජාතිකයා']\n",
    "for w in check:\n",
    "    print(split(w))"
   ]
  },
  {
   "cell_type": "code",
   "execution_count": 41,
   "metadata": {},
   "outputs": [
    {
     "data": {
      "text/plain": [
       "{'debug': [['න්', 'ිමල්ගේ', 21.965314605131145],\n",
       "  ['නි', 'මල්ගේ', 51.68869445084043],\n",
       "  ['නිම', 'ල්ගේ', 909.5848375451263],\n",
       "  ['නිමල', '්ගේ', 280.832547910776],\n",
       "  ['නිමල්', 'ගේ', 10372.674572011936],\n",
       "  ['නිමල්ග', 'ේ', 1.999978031875748]],\n",
       " 'base': 'නිමල්',\n",
       " 'morph': 'ගේ'}"
      ]
     },
     "execution_count": 41,
     "metadata": {},
     "output_type": "execute_result"
    }
   ],
   "source": [
    "split('නිමල්ගේ')"
   ]
  },
  {
   "cell_type": "code",
   "execution_count": 42,
   "metadata": {},
   "outputs": [
    {
     "data": {
      "text/plain": [
       "{'debug': [['ක්', 'මල්ගේ', 51.98927869060458],\n",
       "  ['කම', 'ල්ගේ', 711.0870802504269],\n",
       "  ['කමල', '්ගේ', 151.08795199747357],\n",
       "  ['කමල්', 'ගේ', 3467.460202091828],\n",
       "  ['කමල්ග', 'ේ', 1.999978031875748]],\n",
       " 'base': 'කමල්',\n",
       " 'morph': 'ගේ'}"
      ]
     },
     "execution_count": 42,
     "metadata": {},
     "output_type": "execute_result"
    }
   ],
   "source": [
    "split('කමල්ගේ')"
   ]
  },
  {
   "cell_type": "code",
   "execution_count": 43,
   "metadata": {},
   "outputs": [
    {
     "data": {
      "text/plain": [
       "{'debug': [['ක්', 'මල්ලාගේ', 9.99960343583195],\n",
       "  ['කම', 'ල්ලාගේ', 120.0090566037736],\n",
       "  ['කමල', '්ලාගේ', 120.0],\n",
       "  ['කමල්', 'ලාගේ', 1418.5826086956522],\n",
       "  ['කමල්ල', 'ාගේ', 1.9996518711923412],\n",
       "  ['කමල්ලා', 'ගේ', 17.994940978077572],\n",
       "  ['කමල්ලාග', 'ේ', 1.999978031875748]],\n",
       " 'base': 'කමල්',\n",
       " 'morph': 'ලාගේ'}"
      ]
     },
     "execution_count": 43,
     "metadata": {},
     "output_type": "execute_result"
    }
   ],
   "source": [
    "split('කමල්ලාගේ')"
   ]
  },
  {
   "cell_type": "code",
   "execution_count": 44,
   "metadata": {},
   "outputs": [
    {
     "data": {
      "text/plain": [
       "{'debug': [['ය', 'සස්ගේ', 21.998424550964476],\n",
       "  ['යස', 'ස්ගේ', 664.4462686567165],\n",
       "  ['යසස', '්ගේ', 233.80862448851119],\n",
       "  ['යසස්', 'ගේ', 423.184323217278],\n",
       "  ['යසස්ග', 'ේ', 1.999978031875748]],\n",
       " 'base': 'යස',\n",
       " 'morph': 'ස්ගේ'}"
      ]
     },
     "execution_count": 44,
     "metadata": {},
     "output_type": "execute_result"
    }
   ],
   "source": [
    "split('යසස්ගේ')"
   ]
  },
  {
   "cell_type": "code",
   "execution_count": 45,
   "metadata": {},
   "outputs": [
    {
     "data": {
      "text/plain": [
       "{'debug': [['ග', 'ෙදරින්', 51.17538461538462],\n",
       "  ['ගෙ', 'දරින්', 97.81942857142857],\n",
       "  ['ගෙද', 'රින්', 5.97979797979798],\n",
       "  ['ගෙදර', 'ින්', 21893.4270237077],\n",
       "  ['ගෙදරි', 'න්', 1.999980194490107],\n",
       "  ['ගෙදරින', '්', 1.9999931003315292]],\n",
       " 'base': 'ගෙදර',\n",
       " 'morph': 'ින්'}"
      ]
     },
     "execution_count": 45,
     "metadata": {},
     "output_type": "execute_result"
    }
   ],
   "source": [
    "split('ගෙදරින්')"
   ]
  },
  {
   "cell_type": "code",
   "execution_count": 46,
   "metadata": {},
   "outputs": [
    {
     "data": {
      "text/plain": [
       "{'debug': [['ද', 'ුවමින්', 129.97857548528427],\n",
       "  ['දු', 'වමින්', 473.52531645569616],\n",
       "  ['දුව', 'මින්', 4782.1019730010385],\n",
       "  ['දුවම', 'ින්', 5.999341720304272],\n",
       "  ['දුවමි', 'න්', 13.999029587673785],\n",
       "  ['දුවමින', '්', 1.9999931003315292]],\n",
       " 'base': 'දුව',\n",
       " 'morph': 'මින්'}"
      ]
     },
     "execution_count": 46,
     "metadata": {},
     "output_type": "execute_result"
    }
   ],
   "source": [
    "split('දුවමින්')"
   ]
  },
  {
   "cell_type": "code",
   "execution_count": 47,
   "metadata": {},
   "outputs": [
    {
     "data": {
      "text/plain": [
       "{'debug': [['ද', 'ුවනවා', 143.97371296730603],\n",
       "  ['දු', 'වනවා', 466.51122994652405],\n",
       "  ['දුව', 'නවා', 3861.9012077294688],\n",
       "  ['දුවන', 'වා', 1576.0839916839916],\n",
       "  ['දුවනව', 'ා', 73.95575807520157]],\n",
       " 'base': 'දුව',\n",
       " 'morph': 'නවා'}"
      ]
     },
     "execution_count": 47,
     "metadata": {},
     "output_type": "execute_result"
    }
   ],
   "source": [
    "split('දුවනවා')"
   ]
  },
  {
   "cell_type": "code",
   "execution_count": 48,
   "metadata": {},
   "outputs": [
    {
     "data": {
      "text/plain": [
       "{'debug': [['ද', 'ිව්වා', 37.99816919480072],\n",
       "  ['දි', 'ව්වා', 461.71718774797654],\n",
       "  ['දිව', '්වා', 1737.3458582408198],\n",
       "  ['දිව්', 'වා', 27.955291970802918],\n",
       "  ['දිව්ව', 'ා', 69.96041043871698]],\n",
       " 'base': 'දිව',\n",
       " 'morph': '්වා'}"
      ]
     },
     "execution_count": 48,
     "metadata": {},
     "output_type": "execute_result"
    }
   ],
   "source": [
    "split('දිව්වා')"
   ]
  },
  {
   "cell_type": "code",
   "execution_count": 49,
   "metadata": {},
   "outputs": [
    {
     "data": {
      "text/plain": [
       "{'debug': [['ප', 'ිරියත්', 51.925946212411674],\n",
       "  ['පි', 'රියත්', 260.2767857142857],\n",
       "  ['පිර', 'ියත්', 113.12320916905445],\n",
       "  ['පිරි', 'යත්', 3590.9513851167844],\n",
       "  ['පිරිය', 'ත්', 255.496589442635],\n",
       "  ['පිරියත', '්', 3.999972401421327]],\n",
       " 'base': 'පිරි',\n",
       " 'morph': 'යත්'}"
      ]
     },
     "execution_count": 49,
     "metadata": {},
     "output_type": "execute_result"
    }
   ],
   "source": []
  },
  {
   "cell_type": "code",
   "execution_count": 50,
   "metadata": {},
   "outputs": [
    {
     "data": {
      "text/plain": [
       "{'debug': [['ද', 'ැනුදු', 3.999979713195299],\n",
       "  ['දැ', 'නුදු', 152.63627546071774],\n",
       "  ['දැන්', 'ුදු', 1820.276399532407],\n",
       "  ['දැනු', 'දු', 15.942159963849978],\n",
       "  ['දැනුද', 'ු', 7.999215840031367]],\n",
       " 'base': 'දැන්',\n",
       " 'morph': 'ුදු'}"
      ]
     },
     "execution_count": 50,
     "metadata": {},
     "output_type": "execute_result"
    }
   ],
   "source": [
    "split('දැනුදු')"
   ]
  },
  {
   "cell_type": "code",
   "execution_count": 51,
   "metadata": {},
   "outputs": [
    {
     "data": {
      "text/plain": [
       "{'debug': [['ම', 'ුනිතුමා', 3.999919348334543],\n",
       "  ['මු', 'නිතුමා', 11.97619834710744],\n",
       "  ['මුන්', 'ිතුමා', 288.40793201133147],\n",
       "  ['මුනි', 'තුමා', 234.52506596306068],\n",
       "  ['මුනිත්', 'ුමා', 5.974137931034482],\n",
       "  ['මුනිතු', 'මා', 1.9993145990404386],\n",
       "  ['මුනිතුම', 'ා', 1.9999676642253157]],\n",
       " 'base': 'මුන්',\n",
       " 'morph': 'ිතුමා'}"
      ]
     },
     "execution_count": 51,
     "metadata": {},
     "output_type": "execute_result"
    }
   ],
   "source": [
    "split('මුනිතුමා')"
   ]
  },
  {
   "cell_type": "code",
   "execution_count": null,
   "metadata": {},
   "outputs": [],
   "source": []
  }
 ],
 "metadata": {
  "kernelspec": {
   "display_name": "Python 3",
   "language": "python",
   "name": "python3"
  },
  "language_info": {
   "codemirror_mode": {
    "name": "ipython",
    "version": 3
   },
   "file_extension": ".py",
   "mimetype": "text/x-python",
   "name": "python",
   "nbconvert_exporter": "python",
   "pygments_lexer": "ipython3",
   "version": "3.6.5"
  },
  "pycharm": {
   "stem_cell": {
    "cell_type": "raw",
    "metadata": {
     "collapsed": false
    },
    "source": []
   }
  }
 },
 "nbformat": 4,
 "nbformat_minor": 1
}
